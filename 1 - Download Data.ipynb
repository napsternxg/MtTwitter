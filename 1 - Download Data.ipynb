{
 "cells": [
  {
   "cell_type": "code",
   "execution_count": 1,
   "metadata": {
    "collapsed": true
   },
   "outputs": [],
   "source": [
    "from twarc import Twarc\n",
    "import json as json\n",
    "from tqdm import tqdm"
   ]
  },
  {
   "cell_type": "code",
   "execution_count": 2,
   "metadata": {},
   "outputs": [],
   "source": [
    "CREDENTIAL_FILE=\"twitter_credentials.txt\"\n",
    "USER_SCREEN_NAME=\"TheShubhanshu\"\n",
    "FRIENDS_FILE=\"data/friends.json\"\n",
    "TWEETS_FILE=\"data/tweets.json\"\n",
    "with open(CREDENTIAL_FILE) as fp:\n",
    "    credentials = tuple(map(str.strip, fp.readlines()))"
   ]
  },
  {
   "cell_type": "code",
   "execution_count": 3,
   "metadata": {
    "collapsed": true
   },
   "outputs": [],
   "source": [
    "twarc_obj = Twarc(*credentials)"
   ]
  },
  {
   "cell_type": "code",
   "execution_count": 4,
   "metadata": {},
   "outputs": [
    {
     "name": "stdout",
     "output_type": "stream",
     "text": [
      "671\n"
     ]
    }
   ],
   "source": [
    "friend_ids = list(twarc_obj.friend_ids(USER_SCREEN_NAME))\n",
    "print(len(friend_ids))"
   ]
  },
  {
   "cell_type": "code",
   "execution_count": 5,
   "metadata": {},
   "outputs": [
    {
     "name": "stderr",
     "output_type": "stream",
     "text": [
      "100%|██████████| 671/671 [00:01<00:00, 366.69it/s]"
     ]
    },
    {
     "name": "stdout",
     "output_type": "stream",
     "text": [
      "Collected 671 user data\n"
     ]
    },
    {
     "name": "stderr",
     "output_type": "stream",
     "text": [
      "\n"
     ]
    }
   ],
   "source": [
    "with open(FRIENDS_FILE, 'w+') as fp:\n",
    "    count = 0\n",
    "    for user_data in tqdm(twarc_obj.user_lookup(user_ids=friend_ids), total=len(friend_ids)):\n",
    "        print(json.dumps(user_data), file=fp)\n",
    "        count += 1\n",
    "print(\"Collected {} user data\".format(count))"
   ]
  },
  {
   "cell_type": "code",
   "execution_count": 6,
   "metadata": {},
   "outputs": [
    {
     "name": "stderr",
     "output_type": "stream",
     "text": [
      "Processing friend : 100%|██████████| 671/671 [04:00<00:00,  2.34it/s]"
     ]
    },
    {
     "name": "stdout",
     "output_type": "stream",
     "text": [
      "Collected 64382 tweets\n"
     ]
    },
    {
     "name": "stderr",
     "output_type": "stream",
     "text": [
      "\n"
     ]
    }
   ],
   "source": [
    "with open(TWEETS_FILE, 'w+') as fp:\n",
    "    count = 0\n",
    "    for user_id in tqdm(friend_ids, desc=\"Processing friend \"):\n",
    "        for i, tweet in enumerate(twarc_obj.timeline(user_id=user_id)):\n",
    "            print(json.dumps(tweet), file=fp)\n",
    "            count += 1\n",
    "            if i == 100:\n",
    "                break\n",
    "\n",
    "print(\"Collected {} tweets\".format(count))"
   ]
  },
  {
   "cell_type": "code",
   "execution_count": null,
   "metadata": {
    "collapsed": true
   },
   "outputs": [],
   "source": []
  }
 ],
 "metadata": {
  "kernelspec": {
   "display_name": "Python 3",
   "language": "python",
   "name": "python3"
  },
  "language_info": {
   "codemirror_mode": {
    "name": "ipython",
    "version": 3
   },
   "file_extension": ".py",
   "mimetype": "text/x-python",
   "name": "python",
   "nbconvert_exporter": "python",
   "pygments_lexer": "ipython3",
   "version": "3.6.1"
  }
 },
 "nbformat": 4,
 "nbformat_minor": 2
}
