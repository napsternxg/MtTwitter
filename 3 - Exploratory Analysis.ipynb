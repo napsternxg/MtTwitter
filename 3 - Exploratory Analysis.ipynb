{
 "cells": [
  {
   "cell_type": "code",
   "execution_count": 1,
   "metadata": {
    "collapsed": true
   },
   "outputs": [],
   "source": [
    "%matplotlib inline\n",
    "\n",
    "import pandas as pd\n",
    "import numpy as np\n",
    "\n",
    "import matplotlib.pyplot as plt\n",
    "import seaborn as sns\n",
    "\n",
    "import json\n",
    "from tqdm import tqdm\n",
    "from nltk.tokenize.casual import TweetTokenizer\n",
    "\n",
    "from sklearn.decomposition import PCA\n",
    "from sklearn.metrics import pairwise_distances\n",
    "from sklearn.cluster import KMeans\n",
    "\n",
    "from collections import Counter, defaultdict, namedtuple\n",
    "\n",
    "import re\n",
    "\n",
    "from utilities import *"
   ]
  },
  {
   "cell_type": "code",
   "execution_count": 2,
   "metadata": {
    "collapsed": true
   },
   "outputs": [],
   "source": [
    "sns.set_context('paper')\n",
    "sns.set_style('ticks')\n",
    "\n",
    "palette = sns.color_palette(\"Set2\", 10)"
   ]
  },
  {
   "cell_type": "code",
   "execution_count": 3,
   "metadata": {},
   "outputs": [],
   "source": [
    "TweetDataTuple=namedtuple(\"TweetData\", \"text time hashtags mentions urls\")\n",
    "\n",
    "def extract_screen_name(tweet_data):\n",
    "    return tweet_data[\"user\"][\"screen_name\"]\n",
    "\n",
    "def extract_tweet_data(tweet_data):\n",
    "    hashtags = extract_hashtags(tweet_data)\n",
    "    mentions = extract_mentions(tweet_data)\n",
    "    url_domains = extract_url_domains(tweet_data)\n",
    "    time = extract_time(tweet_data[\"created_at\"])\n",
    "    text = tweet_data[\"full_text\"]\n",
    "    return TweetDataTuple(text, time, hashtags, mentions, url_domains)\n",
    "\n",
    "tweet_data_extractor = make_tweet_data_extractor([\n",
    "    extract_screen_name,\n",
    "    extract_tweet_data])"
   ]
  },
  {
   "cell_type": "code",
   "execution_count": 4,
   "metadata": {
    "collapsed": true
   },
   "outputs": [],
   "source": [
    "VectorDataTuple = namedtuple(\"VectorData\", \"id2label label2id vectors\")\n",
    "def load_vectors(vector_file):\n",
    "    id2label = []\n",
    "    vectors = []\n",
    "    dims = 0\n",
    "    with open(vector_file) as fp:\n",
    "        for line in fp:\n",
    "            line = line.rstrip().split('\\t')\n",
    "            if dims == 0:\n",
    "                dims = len(line)-1\n",
    "            else:\n",
    "                assert dims == (len(line)-1), (\n",
    "                    \"Line: {}\\ndims [{}] not equal to vector length [{}]\"\n",
    "                ).format(line, dims, len(line)-1)\n",
    "            label = line[0]\n",
    "            vector = list(map(float, line[1:]))\n",
    "            id2label.append(label)\n",
    "            vectors.append(vector)\n",
    "    vectors = np.array(vectors)\n",
    "    label2id = {l:i for i,l in enumerate(id2label)}\n",
    "    return VectorDataTuple(id2label, label2id, vectors)\n",
    "    \n",
    "    \n",
    "def plot_clusters(clusterer, vectors):\n",
    "    clusters = clusterer.fit_predict(vectors)\n",
    "    pca_vecs = PCA(n_components=2).fit_transform(vectors)\n",
    "\n",
    "    for i in range(clusterer.n_clusters):\n",
    "        plt.scatter(\n",
    "            pca_vecs[clusters == i, 0],\n",
    "            pca_vecs[clusters == i, 1],\n",
    "            color=palette[i], label=\"Cluster[{}]\".format(i))\n",
    "\n",
    "    plt.legend(loc='upper center', bbox_to_anchor=(0.5, 1.1),\n",
    "              ncol=3, fancybox=True)\n",
    "    sns.despine(offset=10)\n",
    "    return clusters\n",
    "    \n",
    "            "
   ]
  },
  {
   "cell_type": "code",
   "execution_count": 5,
   "metadata": {},
   "outputs": [
    {
     "name": "stderr",
     "output_type": "stream",
     "text": [
      "64382it [00:10, 5926.98it/s]\n"
     ]
    },
    {
     "data": {
      "text/html": [
       "<div>\n",
       "<style>\n",
       "    .dataframe thead tr:only-child th {\n",
       "        text-align: right;\n",
       "    }\n",
       "\n",
       "    .dataframe thead th {\n",
       "        text-align: left;\n",
       "    }\n",
       "\n",
       "    .dataframe tbody tr th {\n",
       "        vertical-align: top;\n",
       "    }\n",
       "</style>\n",
       "<table border=\"1\" class=\"dataframe\">\n",
       "  <thead>\n",
       "    <tr style=\"text-align: right;\">\n",
       "      <th></th>\n",
       "      <th>hashtags</th>\n",
       "      <th>mentions</th>\n",
       "      <th>urls</th>\n",
       "    </tr>\n",
       "  </thead>\n",
       "  <tbody>\n",
       "    <tr>\n",
       "      <th>0</th>\n",
       "      <td>(AI, 651)</td>\n",
       "      <td>(haldaume3, 410)</td>\n",
       "      <td>(twitter.com, 4362)</td>\n",
       "    </tr>\n",
       "    <tr>\n",
       "      <th>1</th>\n",
       "      <td>(emnlp2017, 449)</td>\n",
       "      <td>(yoavgo, 380)</td>\n",
       "      <td>(bit.ly, 2757)</td>\n",
       "    </tr>\n",
       "    <tr>\n",
       "      <th>2</th>\n",
       "      <td>(DataScience, 374)</td>\n",
       "      <td>(hardmaru, 248)</td>\n",
       "      <td>(ow.ly, 1148)</td>\n",
       "    </tr>\n",
       "    <tr>\n",
       "      <th>3</th>\n",
       "      <td>(MachineLearning, 342)</td>\n",
       "      <td>(DeepMindAI, 215)</td>\n",
       "      <td>(goo.gl, 968)</td>\n",
       "    </tr>\n",
       "    <tr>\n",
       "      <th>4</th>\n",
       "      <td>(rstats, 340)</td>\n",
       "      <td>(PyTorch, 207)</td>\n",
       "      <td>(arxiv.org, 951)</td>\n",
       "    </tr>\n",
       "    <tr>\n",
       "      <th>5</th>\n",
       "      <td>(NLProc, 336)</td>\n",
       "      <td>(mcmc_stan, 198)</td>\n",
       "      <td>(github.com, 854)</td>\n",
       "    </tr>\n",
       "    <tr>\n",
       "      <th>6</th>\n",
       "      <td>(dataviz, 331)</td>\n",
       "      <td>(i4oc_org, 198)</td>\n",
       "      <td>(buff.ly, 608)</td>\n",
       "    </tr>\n",
       "    <tr>\n",
       "      <th>7</th>\n",
       "      <td>(deeplearning, 201)</td>\n",
       "      <td>(zehavoc, 188)</td>\n",
       "      <td>(www.youtube.com, 523)</td>\n",
       "    </tr>\n",
       "    <tr>\n",
       "      <th>8</th>\n",
       "      <td>(nlproc, 195)</td>\n",
       "      <td>(jeremyphoward, 178)</td>\n",
       "      <td>(medium.com, 382)</td>\n",
       "    </tr>\n",
       "    <tr>\n",
       "      <th>9</th>\n",
       "      <td>(DeepLearning, 190)</td>\n",
       "      <td>(deliprao, 176)</td>\n",
       "      <td>(fb.me, 366)</td>\n",
       "    </tr>\n",
       "  </tbody>\n",
       "</table>\n",
       "</div>"
      ],
      "text/plain": [
       "                 hashtags              mentions                    urls\n",
       "0               (AI, 651)      (haldaume3, 410)     (twitter.com, 4362)\n",
       "1        (emnlp2017, 449)         (yoavgo, 380)          (bit.ly, 2757)\n",
       "2      (DataScience, 374)       (hardmaru, 248)           (ow.ly, 1148)\n",
       "3  (MachineLearning, 342)     (DeepMindAI, 215)           (goo.gl, 968)\n",
       "4           (rstats, 340)        (PyTorch, 207)        (arxiv.org, 951)\n",
       "5           (NLProc, 336)      (mcmc_stan, 198)       (github.com, 854)\n",
       "6          (dataviz, 331)       (i4oc_org, 198)          (buff.ly, 608)\n",
       "7     (deeplearning, 201)        (zehavoc, 188)  (www.youtube.com, 523)\n",
       "8           (nlproc, 195)  (jeremyphoward, 178)       (medium.com, 382)\n",
       "9     (DeepLearning, 190)       (deliprao, 176)            (fb.me, 366)"
      ]
     },
     "execution_count": 5,
     "metadata": {},
     "output_type": "execute_result"
    }
   ],
   "source": [
    "TWEETS_FILE=\"./data/tweets.json\"\n",
    "\n",
    "with open(TWEETS_FILE) as fp:\n",
    "    tweets_data = defaultdict(list)\n",
    "    hashtags = Counter()\n",
    "    mentions = Counter()\n",
    "    urls = Counter()\n",
    "    times = []\n",
    "    for line in tqdm(fp):\n",
    "        screen_name, tweet_data = tweet_data_extractor(line)\n",
    "        tweets_data[screen_name].append(tweet_data)\n",
    "        hashtags.update(tweet_data.hashtags)\n",
    "        mentions.update(tweet_data.mentions)\n",
    "        urls.update(tweet_data.urls)\n",
    "        times.append(tweet_data.time)\n",
    "        \n",
    "TOP_K=10\n",
    "pd.DataFrame({\n",
    "    \"hashtags\": hashtags.most_common(TOP_K),\n",
    "    \"mentions\": mentions.most_common(TOP_K),\n",
    "    \"urls\": urls.most_common(TOP_K)\n",
    "})"
   ]
  },
  {
   "cell_type": "code",
   "execution_count": 6,
   "metadata": {},
   "outputs": [],
   "source": [
    "times = pd.Series(times)"
   ]
  },
  {
   "cell_type": "code",
   "execution_count": 7,
   "metadata": {},
   "outputs": [
    {
     "data": {
      "text/plain": [
       "0   2017-09-15 23:29:47\n",
       "1   2017-09-15 23:26:02\n",
       "2   2017-09-14 19:36:41\n",
       "3   2017-09-14 19:35:49\n",
       "4   2017-09-14 19:03:04\n",
       "dtype: datetime64[ns]"
      ]
     },
     "execution_count": 7,
     "metadata": {},
     "output_type": "execute_result"
    }
   ],
   "source": [
    "times = pd.to_datetime(times)\n",
    "times.head()"
   ]
  },
  {
   "cell_type": "code",
   "execution_count": 8,
   "metadata": {},
   "outputs": [
    {
     "data": {
      "text/plain": [
       "(Timestamp('2007-04-22 18:05:00'), Timestamp('2017-09-16 09:43:06'))"
      ]
     },
     "execution_count": 8,
     "metadata": {},
     "output_type": "execute_result"
    }
   ],
   "source": [
    "times.min(), times.max()"
   ]
  },
  {
   "cell_type": "code",
   "execution_count": 9,
   "metadata": {},
   "outputs": [
    {
     "data": {
      "image/png": "[encoded data removed]",
      "text/plain": [
       "<matplotlib.figure.Figure at 0x7f6da0d20f98>"
      ]
     },
     "metadata": {},
     "output_type": "display_data"
    }
   ],
   "source": [
    "times.groupby([times.dt.year, times.dt.month]).count().plot()\n",
    "plt.yscale('log')"
   ]
  },
  {
   "cell_type": "code",
   "execution_count": 10,
   "metadata": {},
   "outputs": [],
   "source": [
    "hashtag_vectors = load_vectors(\"models/user_hashtag_docs.tsv\")\n",
    "mention_vectors = load_vectors(\"models/user_mention_docs.tsv\")"
   ]
  },
  {
   "cell_type": "code",
   "execution_count": 11,
   "metadata": {},
   "outputs": [],
   "source": [
    "def user_vectors(tweets_data, vector_data, label=\"hashtags\"):\n",
    "    \"\"\"Returns a VectorDataTuple\"\"\"\n",
    "    id2label = []\n",
    "    vectors = []\n",
    "    base_vector = np.zeros(vector_data.vectors.shape[-1])\n",
    "    get_vector = lambda x: (vector_data.vectors[vector_data.label2id[x.lower()]]\n",
    "                            if x.lower() in vector_data.label2id else base_vector)\n",
    "    for screen_name, tweets in tweets_data.items():\n",
    "        user_labels = sum((getattr(tweet, label)\n",
    "                          for tweet in tweets if getattr(tweet, label)), ())\n",
    "        user_vector = base_vector\n",
    "        if user_labels:\n",
    "            user_vector = np.sum(list(map(get_vector, user_labels)), axis=0)\n",
    "        id2label.append(screen_name)\n",
    "        vectors.append(user_vector)\n",
    "        assert user_vector.shape == base_vector.shape, \"Vector shape mismatch {}\".format(user_vectors)\n",
    "    label2id = {label:i for i, label in enumerate(id2label)}\n",
    "    vectors = np.vstack(vectors)\n",
    "    return VectorDataTuple(id2label, label2id, vectors)"
   ]
  },
  {
   "cell_type": "code",
   "execution_count": 12,
   "metadata": {},
   "outputs": [],
   "source": [
    "user_hashtag_vectors = user_vectors(tweets_data, hashtag_vectors, label=\"hashtags\")\n",
    "user_mention_vectors = user_vectors(tweets_data, mention_vectors, label=\"mentions\")"
   ]
  },
  {
   "cell_type": "code",
   "execution_count": 13,
   "metadata": {},
   "outputs": [
    {
     "data": {
      "image/png": "[encoded data removed]",
      "text/plain": [
       "<matplotlib.figure.Figure at 0x7f6d978b1e80>"
      ]
     },
     "metadata": {},
     "output_type": "display_data"
    }
   ],
   "source": [
    "N_clusters = 10\n",
    "user_hashtag_clusters = plot_clusters(KMeans(n_clusters=N_clusters), user_hashtag_vectors.vectors)"
   ]
  },
  {
   "cell_type": "code",
   "execution_count": 14,
   "metadata": {},
   "outputs": [
    {
     "data": {
      "image/png": "[encoded data removed]",
      "text/plain": [
       "<matplotlib.figure.Figure at 0x7f6d973a1d30>"
      ]
     },
     "metadata": {},
     "output_type": "display_data"
    }
   ],
   "source": [
    "N_clusters = 10\n",
    "user_mention_clusters = plot_clusters(KMeans(n_clusters=N_clusters), user_mention_vectors.vectors)"
   ]
  },
  {
   "cell_type": "code",
   "execution_count": 15,
   "metadata": {},
   "outputs": [
    {
     "data": {
      "text/plain": [
       "array([0, 0, 0, 0, 0, 0, 0, 0, 0, 0], dtype=int32)"
      ]
     },
     "execution_count": 15,
     "metadata": {},
     "output_type": "execute_result"
    }
   ],
   "source": [
    "user_hashtag_clusters[:10]"
   ]
  },
  {
   "cell_type": "code",
   "execution_count": 16,
   "metadata": {},
   "outputs": [],
   "source": [
    "def print_clusters(clusters, vectors, N=10):\n",
    "    for cid in np.unique(clusters):\n",
    "        user_names = list(vectors.id2label[i]\n",
    "                         for i in range(clusters.shape[0]) if clusters[i] == cid)\n",
    "        print(\"Cluster[{}]: {}\".format(cid, \", \".join(user_names[:N])))"
   ]
  },
  {
   "cell_type": "code",
   "execution_count": 17,
   "metadata": {},
   "outputs": [
    {
     "name": "stdout",
     "output_type": "stream",
     "text": [
      "Cluster[0]: avehtari, Dynamicland1, kjhealy, d3js_org, math3ma, jcjohnss, SamHarrisOrg, thejaan, haveibeenpwned, dataandme\n",
      "Cluster[1]: fenicsproject\n",
      "Cluster[2]: icmlconf, dataverseorg, hildaworkshop, fb_engineering, usnistgov, uspto, iuinfograd, IntelNervana, spark_summit, databricks\n",
      "Cluster[3]: OpenVisConf, dbpedia\n",
      "Cluster[4]: DataPortalIndia\n",
      "Cluster[5]: AInsights, boredyannlecun\n",
      "Cluster[6]: MindShiftKQED\n",
      "Cluster[7]: KirkDBorne, opengovpart, OrangeDataMiner, Rbloggers, katycns\n",
      "Cluster[8]: KaggleDatasets, DrRituRaman\n",
      "Cluster[9]: ProjectOpenUP, TheContentMine, ACM_CSCW, openminted_eu, jcdl2016, wospworkshop, iSchools, iconf\n"
     ]
    }
   ],
   "source": [
    "print_clusters(user_hashtag_clusters, user_hashtag_vectors, N=10)"
   ]
  },
  {
   "cell_type": "code",
   "execution_count": 18,
   "metadata": {},
   "outputs": [
    {
     "name": "stdout",
     "output_type": "stream",
     "text": [
      "Cluster[0]: kjhealy, d3js_org, math3ma, jcjohnss, SamHarrisOrg, thejaan, haveibeenpwned, datassist, MonaChalabi, chiquiesteban\n",
      "Cluster[1]: avehtari, KirkDBorne, NadiehBremer, sxywu, pythonbytes, oliviawalch, wesmckinn, GGorczynski, OpenVisConf, msalganik\n",
      "Cluster[2]: i4oc_org, sparontologies, essepuntato, dshotton, opencitations\n",
      "Cluster[3]: icmlconf, BKCHarvard, datasociety, project_thor_eu, datacite, rOpenSci, deviparikh, ProjectOpenUP, data4democracy, graphific\n",
      "Cluster[4]: Dynamicland1, NUnetsi, syhw, SMLabTO, nlpandcss, jennifernvictor, Nigel_Shadbolt, teoliphant, PyData, ProjectJupyter\n",
      "Cluster[5]: bayesimpact, kdd_news, talyarkoni, WebSciConf\n",
      "Cluster[6]: MetaMindIO\n",
      "Cluster[7]: CutTheKnotMath, mollyeroberts, adampaulcoates, Rspodcast, GateAcUk, escience, clipsua, spacy_io, POTUS\n",
      "Cluster[8]: DataPortalIndia\n",
      "Cluster[9]: dataandme, p5xjs, shiffman, StanfordCIS, GETillinois, brucedesmarais, clauwa, hadleywickham, kanarinka, jeremyphoward\n"
     ]
    }
   ],
   "source": [
    "print_clusters(user_mention_clusters, user_mention_vectors, N=10)"
   ]
  },
  {
   "cell_type": "code",
   "execution_count": null,
   "metadata": {
    "collapsed": true
   },
   "outputs": [],
   "source": []
  }
 ],
 "metadata": {
  "kernelspec": {
   "display_name": "Python 3",
   "language": "python",
   "name": "python3"
  },
  "language_info": {
   "codemirror_mode": {
    "name": "ipython",
    "version": 3
   },
   "file_extension": ".py",
   "mimetype": "text/x-python",
   "name": "python",
   "nbconvert_exporter": "python",
   "pygments_lexer": "ipython3",
   "version": "3.6.1"
  }
 },
 "nbformat": 4,
 "nbformat_minor": 2
}
